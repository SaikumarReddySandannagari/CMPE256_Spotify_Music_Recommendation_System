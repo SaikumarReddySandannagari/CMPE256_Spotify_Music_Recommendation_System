{
 "cells": [
  {
   "cell_type": "code",
   "execution_count": 1,
   "metadata": {},
   "outputs": [
    {
     "data": {
      "text/html": [
       "        <script type=\"text/javascript\">\n",
       "        window.PlotlyConfig = {MathJaxConfig: 'local'};\n",
       "        if (window.MathJax) {MathJax.Hub.Config({SVG: {font: \"STIX-Web\"}});}\n",
       "        if (typeof require !== 'undefined') {\n",
       "        require.undef(\"plotly\");\n",
       "        requirejs.config({\n",
       "            paths: {\n",
       "                'plotly': ['https://cdn.plot.ly/plotly-latest.min']\n",
       "            }\n",
       "        });\n",
       "        require(['plotly'], function(Plotly) {\n",
       "            window._Plotly = Plotly;\n",
       "        });\n",
       "        }\n",
       "        </script>\n",
       "        "
      ]
     },
     "metadata": {},
     "output_type": "display_data"
    }
   ],
   "source": [
    "from PIL import Image\n",
    "import requests\n",
    "from io import BytesIO\n",
    "import matplotlib.pyplot as plt\n",
    "import numpy as np\n",
    "import pandas as pd\n",
    "import warnings\n",
    "from bs4 import BeautifulSoup\n",
    "from nltk.corpus import stopwords\n",
    "from nltk.tokenize import word_tokenize\n",
    "import nltk\n",
    "import math\n",
    "import time\n",
    "import re\n",
    "import os\n",
    "import seaborn as sns\n",
    "from collections import Counter\n",
    "from sklearn.feature_extraction.text import CountVectorizer\n",
    "from sklearn.feature_extraction.text import TfidfVectorizer\n",
    "from sklearn.metrics.pairwise import cosine_similarity  \n",
    "from sklearn.metrics import pairwise_distances\n",
    "from matplotlib import gridspec\n",
    "from scipy.sparse import hstack\n",
    "import plotly\n",
    "import plotly.figure_factory as ff\n",
    "from plotly.graph_objs import Scatter, Layout\n",
    "\n",
    "plotly.offline.init_notebook_mode(connected=True)\n",
    "warnings.filterwarnings(\"ignore\")"
   ]
  },
  {
   "cell_type": "code",
   "execution_count": 2,
   "metadata": {},
   "outputs": [
    {
     "data": {
      "text/html": [
       "<div>\n",
       "<style scoped>\n",
       "    .dataframe tbody tr th:only-of-type {\n",
       "        vertical-align: middle;\n",
       "    }\n",
       "\n",
       "    .dataframe tbody tr th {\n",
       "        vertical-align: top;\n",
       "    }\n",
       "\n",
       "    .dataframe thead th {\n",
       "        text-align: right;\n",
       "    }\n",
       "</style>\n",
       "<table border=\"1\" class=\"dataframe\">\n",
       "  <thead>\n",
       "    <tr style=\"text-align: right;\">\n",
       "      <th></th>\n",
       "      <th>album_id</th>\n",
       "      <th>album_name</th>\n",
       "      <th>album_release_date</th>\n",
       "      <th>track_name</th>\n",
       "      <th>artist1_id</th>\n",
       "      <th>album_label</th>\n",
       "    </tr>\n",
       "  </thead>\n",
       "  <tbody>\n",
       "    <tr>\n",
       "      <th>0</th>\n",
       "      <td>671JMBwDOqsTqgUQ1uV31Q</td>\n",
       "      <td>Album for the Young: Gentle Piano by Tchaikovs...</td>\n",
       "      <td>3/29/2014</td>\n",
       "      <td>Album for the Young, Op. 68 \"Album für die Jug...</td>\n",
       "      <td>4tSF3kfKHwrJHGS7B4UPoK</td>\n",
       "      <td>2014 Ameritz Music Ltd.</td>\n",
       "    </tr>\n",
       "    <tr>\n",
       "      <th>1</th>\n",
       "      <td>3CyG8owv9bw92gJ3mJzobY</td>\n",
       "      <td>Asian Zen Spa</td>\n",
       "      <td>4/21/2014</td>\n",
       "      <td>Backroads</td>\n",
       "      <td>6FarM6zyPwNuuVw7lTbMlt</td>\n",
       "      <td>Ocean And Air Records</td>\n",
       "    </tr>\n",
       "    <tr>\n",
       "      <th>2</th>\n",
       "      <td>1maoQPAmw44bbkNOxKlwsx</td>\n",
       "      <td>Drukqs</td>\n",
       "      <td>10/22/2001</td>\n",
       "      <td>Avril 14th</td>\n",
       "      <td>6kBDZFXuLrZgHnvmPu9NsG</td>\n",
       "      <td>Warp Records</td>\n",
       "    </tr>\n",
       "    <tr>\n",
       "      <th>3</th>\n",
       "      <td>4GFWY45h3wGQlXXQEr5Std</td>\n",
       "      <td>Happy Newage Piano Collection Vol.1</td>\n",
       "      <td>10/31/2013</td>\n",
       "      <td>가질 수 없어도 행복한게 사랑이다</td>\n",
       "      <td>75iUxGnPfWc4gpqs6EzxrM</td>\n",
       "      <td>Hot Ideas</td>\n",
       "    </tr>\n",
       "    <tr>\n",
       "      <th>4</th>\n",
       "      <td>21zVmZS6xxjGTAs6bFLUg4</td>\n",
       "      <td>Undertale - Fragments of a Heart</td>\n",
       "      <td>2/22/2016</td>\n",
       "      <td>His Theme (feat. Doug Perry)</td>\n",
       "      <td>2K1Ps7vnKg2AnKsSoVqH4P</td>\n",
       "      <td>Various Artists</td>\n",
       "    </tr>\n",
       "  </tbody>\n",
       "</table>\n",
       "</div>"
      ],
      "text/plain": [
       "                 album_id                                         album_name  \\\n",
       "0  671JMBwDOqsTqgUQ1uV31Q  Album for the Young: Gentle Piano by Tchaikovs...   \n",
       "1  3CyG8owv9bw92gJ3mJzobY                                      Asian Zen Spa   \n",
       "2  1maoQPAmw44bbkNOxKlwsx                                             Drukqs   \n",
       "3  4GFWY45h3wGQlXXQEr5Std                Happy Newage Piano Collection Vol.1   \n",
       "4  21zVmZS6xxjGTAs6bFLUg4                   Undertale - Fragments of a Heart   \n",
       "\n",
       "  album_release_date                                         track_name  \\\n",
       "0          3/29/2014  Album for the Young, Op. 68 \"Album für die Jug...   \n",
       "1          4/21/2014                                          Backroads   \n",
       "2         10/22/2001                                         Avril 14th   \n",
       "3         10/31/2013                                 가질 수 없어도 행복한게 사랑이다   \n",
       "4          2/22/2016                       His Theme (feat. Doug Perry)   \n",
       "\n",
       "               artist1_id              album_label  \n",
       "0  4tSF3kfKHwrJHGS7B4UPoK  2014 Ameritz Music Ltd.  \n",
       "1  6FarM6zyPwNuuVw7lTbMlt    Ocean And Air Records  \n",
       "2  6kBDZFXuLrZgHnvmPu9NsG             Warp Records  \n",
       "3  75iUxGnPfWc4gpqs6EzxrM                Hot Ideas  \n",
       "4  2K1Ps7vnKg2AnKsSoVqH4P          Various Artists  "
      ]
     },
     "execution_count": 2,
     "metadata": {},
     "output_type": "execute_result"
    }
   ],
   "source": [
    "playlists = pd.read_csv('Data.csv')\n",
    "playlists.head()"
   ]
  },
  {
   "cell_type": "code",
   "execution_count": 3,
   "metadata": {},
   "outputs": [
    {
     "data": {
      "text/plain": [
       "(32054, 6)"
      ]
     },
     "execution_count": 3,
     "metadata": {},
     "output_type": "execute_result"
    }
   ],
   "source": [
    "playlists.shape"
   ]
  },
  {
   "cell_type": "code",
   "execution_count": 4,
   "metadata": {},
   "outputs": [
    {
     "data": {
      "text/plain": [
       "Index(['album_id', 'album_name', 'album_release_date', 'track_name',\n",
       "       'artist1_id', 'album_label'],\n",
       "      dtype='object')"
      ]
     },
     "execution_count": 4,
     "metadata": {},
     "output_type": "execute_result"
    }
   ],
   "source": [
    "playlists.columns"
   ]
  },
  {
   "cell_type": "code",
   "execution_count": 5,
   "metadata": {},
   "outputs": [
    {
     "name": "stdout",
     "output_type": "stream",
     "text": [
      "0\n"
     ]
    }
   ],
   "source": [
    "import re\n",
    "\n",
    "bad_indices = [] \n",
    "lst_4_years = [] \n",
    "lst_2_slash = [] \n",
    "lst_2_hyphen = [] \n",
    "\n",
    "lst_year_release = [] # to store years converted to standardized format YYYY\n",
    "\n",
    "for i, date in enumerate(playlists.album_release_date):\n",
    "\n",
    "    if len(date)==4: # keep YYYY as is\n",
    "        lst_4_years.append(date)\n",
    "        lst_year_release.append(date)\n",
    "        \n",
    "    elif re.findall(r\"(.){1,2}[/](.){1,2}[/](.){1,2}\",date): # convert MM/DD/YY\n",
    "        lst_2_slash.append(date)\n",
    "        \n",
    "        if int(date[-2:]) < 19: # for years 2000 to 2018\n",
    "            lst_year_release.append(\"20\"+(date[-2:]))\n",
    "        else:\n",
    "            lst_year_release.append(\"19\"+(date[-2:])) # for years 1939 (oldest year) to 1999\n",
    "        \n",
    "    elif re.findall(r\"(.){4}-(.){2}\",date): # convert YYYY-MM\n",
    "        lst_2_hyphen.append(date)\n",
    "        lst_year_release.append(date[:4])\n",
    "        \n",
    "    else:\n",
    "        bad_indices.append((i, date))\n",
    "        \n",
    "print(len(bad_indices)) # there are no bad indices :) that means all release dates were in one of the above 3 formats\n",
    "playlists[\"album_release_year\"] = lst_year_release"
   ]
  },
  {
   "cell_type": "code",
   "execution_count": 6,
   "metadata": {},
   "outputs": [
    {
     "data": {
      "text/plain": [
       "Index(['album_id', 'album_name', 'album_release_date', 'track_name',\n",
       "       'artist1_id', 'album_label', 'album_release_year'],\n",
       "      dtype='object')"
      ]
     },
     "execution_count": 6,
     "metadata": {},
     "output_type": "execute_result"
    }
   ],
   "source": [
    "playlists.columns"
   ]
  },
  {
   "cell_type": "code",
   "execution_count": 7,
   "metadata": {},
   "outputs": [],
   "source": [
    "data = playlists[['album_id', 'album_name', 'track_name', 'artist1_id', 'album_label', 'album_release_year']]"
   ]
  },
  {
   "cell_type": "code",
   "execution_count": 8,
   "metadata": {},
   "outputs": [
    {
     "data": {
      "text/html": [
       "<div>\n",
       "<style scoped>\n",
       "    .dataframe tbody tr th:only-of-type {\n",
       "        vertical-align: middle;\n",
       "    }\n",
       "\n",
       "    .dataframe tbody tr th {\n",
       "        vertical-align: top;\n",
       "    }\n",
       "\n",
       "    .dataframe thead th {\n",
       "        text-align: right;\n",
       "    }\n",
       "</style>\n",
       "<table border=\"1\" class=\"dataframe\">\n",
       "  <thead>\n",
       "    <tr style=\"text-align: right;\">\n",
       "      <th></th>\n",
       "      <th>album_id</th>\n",
       "      <th>album_name</th>\n",
       "      <th>track_name</th>\n",
       "      <th>artist1_id</th>\n",
       "      <th>album_label</th>\n",
       "      <th>album_release_year</th>\n",
       "    </tr>\n",
       "  </thead>\n",
       "  <tbody>\n",
       "    <tr>\n",
       "      <th>0</th>\n",
       "      <td>671JMBwDOqsTqgUQ1uV31Q</td>\n",
       "      <td>Album for the Young: Gentle Piano by Tchaikovs...</td>\n",
       "      <td>Album for the Young, Op. 68 \"Album für die Jug...</td>\n",
       "      <td>4tSF3kfKHwrJHGS7B4UPoK</td>\n",
       "      <td>2014 Ameritz Music Ltd.</td>\n",
       "      <td>2014</td>\n",
       "    </tr>\n",
       "    <tr>\n",
       "      <th>1</th>\n",
       "      <td>3CyG8owv9bw92gJ3mJzobY</td>\n",
       "      <td>Asian Zen Spa</td>\n",
       "      <td>Backroads</td>\n",
       "      <td>6FarM6zyPwNuuVw7lTbMlt</td>\n",
       "      <td>Ocean And Air Records</td>\n",
       "      <td>2014</td>\n",
       "    </tr>\n",
       "    <tr>\n",
       "      <th>2</th>\n",
       "      <td>1maoQPAmw44bbkNOxKlwsx</td>\n",
       "      <td>Drukqs</td>\n",
       "      <td>Avril 14th</td>\n",
       "      <td>6kBDZFXuLrZgHnvmPu9NsG</td>\n",
       "      <td>Warp Records</td>\n",
       "      <td>2001</td>\n",
       "    </tr>\n",
       "    <tr>\n",
       "      <th>3</th>\n",
       "      <td>4GFWY45h3wGQlXXQEr5Std</td>\n",
       "      <td>Happy Newage Piano Collection Vol.1</td>\n",
       "      <td>가질 수 없어도 행복한게 사랑이다</td>\n",
       "      <td>75iUxGnPfWc4gpqs6EzxrM</td>\n",
       "      <td>Hot Ideas</td>\n",
       "      <td>2013</td>\n",
       "    </tr>\n",
       "    <tr>\n",
       "      <th>4</th>\n",
       "      <td>21zVmZS6xxjGTAs6bFLUg4</td>\n",
       "      <td>Undertale - Fragments of a Heart</td>\n",
       "      <td>His Theme (feat. Doug Perry)</td>\n",
       "      <td>2K1Ps7vnKg2AnKsSoVqH4P</td>\n",
       "      <td>Various Artists</td>\n",
       "      <td>2016</td>\n",
       "    </tr>\n",
       "  </tbody>\n",
       "</table>\n",
       "</div>"
      ],
      "text/plain": [
       "                 album_id                                         album_name  \\\n",
       "0  671JMBwDOqsTqgUQ1uV31Q  Album for the Young: Gentle Piano by Tchaikovs...   \n",
       "1  3CyG8owv9bw92gJ3mJzobY                                      Asian Zen Spa   \n",
       "2  1maoQPAmw44bbkNOxKlwsx                                             Drukqs   \n",
       "3  4GFWY45h3wGQlXXQEr5Std                Happy Newage Piano Collection Vol.1   \n",
       "4  21zVmZS6xxjGTAs6bFLUg4                   Undertale - Fragments of a Heart   \n",
       "\n",
       "                                          track_name              artist1_id  \\\n",
       "0  Album for the Young, Op. 68 \"Album für die Jug...  4tSF3kfKHwrJHGS7B4UPoK   \n",
       "1                                          Backroads  6FarM6zyPwNuuVw7lTbMlt   \n",
       "2                                         Avril 14th  6kBDZFXuLrZgHnvmPu9NsG   \n",
       "3                                 가질 수 없어도 행복한게 사랑이다  75iUxGnPfWc4gpqs6EzxrM   \n",
       "4                       His Theme (feat. Doug Perry)  2K1Ps7vnKg2AnKsSoVqH4P   \n",
       "\n",
       "               album_label album_release_year  \n",
       "0  2014 Ameritz Music Ltd.               2014  \n",
       "1    Ocean And Air Records               2014  \n",
       "2             Warp Records               2001  \n",
       "3                Hot Ideas               2013  \n",
       "4          Various Artists               2016  "
      ]
     },
     "execution_count": 8,
     "metadata": {},
     "output_type": "execute_result"
    }
   ],
   "source": [
    "data.head()"
   ]
  },
  {
   "cell_type": "code",
   "execution_count": 9,
   "metadata": {},
   "outputs": [
    {
     "data": {
      "text/plain": [
       "(32054, 6)"
      ]
     },
     "execution_count": 9,
     "metadata": {},
     "output_type": "execute_result"
    }
   ],
   "source": [
    "data.shape"
   ]
  },
  {
   "cell_type": "markdown",
   "metadata": {},
   "source": [
    "# Data Cleaning"
   ]
  },
  {
   "cell_type": "code",
   "execution_count": 10,
   "metadata": {},
   "outputs": [
    {
     "data": {
      "text/plain": [
       "(32044, 6)"
      ]
     },
     "execution_count": 10,
     "metadata": {},
     "output_type": "execute_result"
    }
   ],
   "source": [
    "data=data.dropna(axis=0)\n",
    "data.shape"
   ]
  },
  {
   "cell_type": "code",
   "execution_count": 11,
   "metadata": {},
   "outputs": [
    {
     "name": "stdout",
     "output_type": "stream",
     "text": [
      "14746\n"
     ]
    }
   ],
   "source": [
    "print(sum(data.duplicated('track_name')))"
   ]
  },
  {
   "cell_type": "code",
   "execution_count": 12,
   "metadata": {},
   "outputs": [
    {
     "data": {
      "text/html": [
       "<div>\n",
       "<style scoped>\n",
       "    .dataframe tbody tr th:only-of-type {\n",
       "        vertical-align: middle;\n",
       "    }\n",
       "\n",
       "    .dataframe tbody tr th {\n",
       "        vertical-align: top;\n",
       "    }\n",
       "\n",
       "    .dataframe thead th {\n",
       "        text-align: right;\n",
       "    }\n",
       "</style>\n",
       "<table border=\"1\" class=\"dataframe\">\n",
       "  <thead>\n",
       "    <tr style=\"text-align: right;\">\n",
       "      <th></th>\n",
       "      <th>album_id</th>\n",
       "      <th>album_name</th>\n",
       "      <th>track_name</th>\n",
       "      <th>artist1_id</th>\n",
       "      <th>album_label</th>\n",
       "      <th>album_release_year</th>\n",
       "    </tr>\n",
       "  </thead>\n",
       "  <tbody>\n",
       "    <tr>\n",
       "      <th>6040</th>\n",
       "      <td>0dCnMD2QwTKrAJKS1zH9s6</td>\n",
       "      <td>A’s Doll House - EP</td>\n",
       "      <td>열애설 (Scandal)</td>\n",
       "      <td>3uGFTJ7JMllvhgGpumieHF</td>\n",
       "      <td>YMC엔터테인먼트 (YMC Ent.)</td>\n",
       "      <td>2013</td>\n",
       "    </tr>\n",
       "    <tr>\n",
       "      <th>757</th>\n",
       "      <td>4O6r59fmhMgcNxzVvEgaj9</td>\n",
       "      <td>For Your Heart Vol.1</td>\n",
       "      <td>시간을 타고</td>\n",
       "      <td>0BeIulKOpcvsabwlt4u8qp</td>\n",
       "      <td>Emotion Piano</td>\n",
       "      <td>2013</td>\n",
       "    </tr>\n",
       "    <tr>\n",
       "      <th>14417</th>\n",
       "      <td>4RL2SyHa8y9t1cKLQr399v</td>\n",
       "      <td>Watch</td>\n",
       "      <td>바보같은 여자라</td>\n",
       "      <td>5tsAGzBkkAM9DtfYfJy456</td>\n",
       "      <td>쏘스뮤직</td>\n",
       "      <td>2011</td>\n",
       "    </tr>\n",
       "    <tr>\n",
       "      <th>233</th>\n",
       "      <td>1B6ZdAcCctpZafBay3g4sI</td>\n",
       "      <td>피아노 선율에 그리움을 담아</td>\n",
       "      <td>그리운 이에게</td>\n",
       "      <td>0BeIulKOpcvsabwlt4u8qp</td>\n",
       "      <td>Emotion Piano</td>\n",
       "      <td>2013</td>\n",
       "    </tr>\n",
       "    <tr>\n",
       "      <th>12</th>\n",
       "      <td>2iTg1bg66Ug0hgXrl6Of8L</td>\n",
       "      <td>사랑을 그리는 뉴에이지 피아노</td>\n",
       "      <td>공주를 사랑한 피아니스트</td>\n",
       "      <td>0BeIulKOpcvsabwlt4u8qp</td>\n",
       "      <td>Emotion Piano</td>\n",
       "      <td>2013</td>\n",
       "    </tr>\n",
       "  </tbody>\n",
       "</table>\n",
       "</div>"
      ],
      "text/plain": [
       "                     album_id            album_name     track_name  \\\n",
       "6040   0dCnMD2QwTKrAJKS1zH9s6   A’s Doll House - EP  열애설 (Scandal)   \n",
       "757    4O6r59fmhMgcNxzVvEgaj9  For Your Heart Vol.1         시간을 타고   \n",
       "14417  4RL2SyHa8y9t1cKLQr399v                 Watch       바보같은 여자라   \n",
       "233    1B6ZdAcCctpZafBay3g4sI       피아노 선율에 그리움을 담아        그리운 이에게   \n",
       "12     2iTg1bg66Ug0hgXrl6Of8L      사랑을 그리는 뉴에이지 피아노  공주를 사랑한 피아니스트   \n",
       "\n",
       "                   artist1_id           album_label album_release_year  \n",
       "6040   3uGFTJ7JMllvhgGpumieHF  YMC엔터테인먼트 (YMC Ent.)               2013  \n",
       "757    0BeIulKOpcvsabwlt4u8qp         Emotion Piano               2013  \n",
       "14417  5tsAGzBkkAM9DtfYfJy456                  쏘스뮤직               2011  \n",
       "233    0BeIulKOpcvsabwlt4u8qp         Emotion Piano               2013  \n",
       "12     0BeIulKOpcvsabwlt4u8qp         Emotion Piano               2013  "
      ]
     },
     "execution_count": 12,
     "metadata": {},
     "output_type": "execute_result"
    }
   ],
   "source": [
    "data.sort_values('track_name',inplace=True, ascending=False)\n",
    "data.head()"
   ]
  },
  {
   "cell_type": "code",
   "execution_count": 13,
   "metadata": {},
   "outputs": [],
   "source": [
    "indices = []\n",
    "for i,row in data.iterrows():\n",
    "    indices.append(i)"
   ]
  },
  {
   "cell_type": "code",
   "execution_count": 14,
   "metadata": {},
   "outputs": [],
   "source": [
    "import itertools\n",
    "stage1_dedupe_track_name = []\n",
    "i = 0\n",
    "j = 0\n",
    "num_data_points = data.shape[0]\n",
    "while i < num_data_points and j < num_data_points:\n",
    "    \n",
    "    previous_i = i\n",
    "    a = data['track_name'].loc[indices[i]].split()\n",
    "    j = i+1\n",
    "    while j < num_data_points:        \n",
    "        b = data['track_name'].loc[indices[j]].split()\n",
    "        length = max(len(a), len(b))\n",
    "        count  = 0\n",
    "        for k in itertools.zip_longest(a,b): \n",
    "            if (k[0] == k[1]):\n",
    "                count += 1\n",
    "        if (length - count) > 1:\n",
    "            stage1_dedupe_track_name.append(data['track_name'].loc[indices[i]])\n",
    "            if j == num_data_points-1: stage1_dedupe_track_name.append(data['track_name'].loc[indices[j]])\n",
    "\n",
    "            i = j\n",
    "            break\n",
    "        else:\n",
    "            j += 1\n",
    "    if previous_i == i:\n",
    "        break"
   ]
  },
  {
   "cell_type": "code",
   "execution_count": 15,
   "metadata": {},
   "outputs": [],
   "source": [
    "data = data.loc[data['track_name'].isin(stage1_dedupe_track_name)]"
   ]
  },
  {
   "cell_type": "code",
   "execution_count": 16,
   "metadata": {},
   "outputs": [
    {
     "name": "stdout",
     "output_type": "stream",
     "text": [
      "Number of data points :  26710\n"
     ]
    }
   ],
   "source": [
    "print('Number of data points : ', data.shape[0])"
   ]
  },
  {
   "cell_type": "code",
   "execution_count": 17,
   "metadata": {},
   "outputs": [],
   "source": [
    "def plot_heatmap(keys, values, labels,text):\n",
    "        gs = gridspec.GridSpec(2, 2, width_ratios=[4,1], height_ratios=[4,1]) \n",
    "        fig = plt.figure(figsize=(20,2))\n",
    "        ax = plt.subplot(gs[0])\n",
    "        ax = sns.heatmap(np.array([values]), annot=np.array([labels]))\n",
    "        ax.set_xticklabels(keys) \n",
    "        ax.set_title(text) \n",
    "        plt.show()\n",
    "    \n",
    "def plot_heatmap_image(doc_id, vec1, vec2,text, model):\n",
    "\n",
    "    intersection = set(vec1.keys()) & set(vec2.keys()) \n",
    "    for i in vec2:\n",
    "        if i not in intersection:\n",
    "            vec2[i]=0\n",
    "    keys = list(vec2.keys())\n",
    "    values = [vec2[x] for x in vec2.keys()]\n",
    "    if model == 'bag_of_words':\n",
    "        labels = values\n",
    "\n",
    "    plot_heatmap(keys, values, labels, text)\n",
    "\n",
    "def text_to_vector(text):\n",
    "    word = re.compile(r'\\w+')\n",
    "    words = word.findall(text)\n",
    "    return Counter(words) \n",
    "\n",
    "\n",
    "def get_result(doc_id, content_a, content_b, model):\n",
    "    text1 = content_a\n",
    "    text2 = content_b\n",
    "    vector1 = text_to_vector(text1)\n",
    "    vector2 = text_to_vector(text2)\n",
    "\n",
    "    plot_heatmap_image(doc_id, vector1, vector2, text2, model)"
   ]
  },
  {
   "cell_type": "code",
   "execution_count": 18,
   "metadata": {},
   "outputs": [
    {
     "data": {
      "text/plain": [
       "(26710, 8051)"
      ]
     },
     "execution_count": 18,
     "metadata": {},
     "output_type": "execute_result"
    }
   ],
   "source": [
    "from sklearn.feature_extraction.text import CountVectorizer\n",
    "title_vectorizer = CountVectorizer()\n",
    "title_features   = title_vectorizer.fit_transform(data['album_name'])\n",
    "title_features.get_shape()"
   ]
  },
  {
   "cell_type": "markdown",
   "metadata": {},
   "source": [
    "# Bag of words "
   ]
  },
  {
   "cell_type": "code",
   "execution_count": 19,
   "metadata": {},
   "outputs": [
    {
     "data": {
      "image/png": "[encoded data removed]",
      "text/plain": [
       "<Figure size 1440x144 with 2 Axes>"
      ]
     },
     "metadata": {
      "needs_background": "light"
     },
     "output_type": "display_data"
    },
    {
     "name": "stdout",
     "output_type": "stream",
     "text": [
      "track_name : So Good\n",
      "album_name: So Good\n",
      "album_label: Columbia\n",
      "year: 2017\n",
      "Euclidean similarity : 0.0\n",
      "============================================================\n"
     ]
    },
    {
     "data": {
      "image/png": "[encoded data removed]",
      "text/plain": [
       "<Figure size 1440x144 with 2 Axes>"
      ]
     },
     "metadata": {
      "needs_background": "light"
     },
     "output_type": "display_data"
    },
    {
     "name": "stdout",
     "output_type": "stream",
     "text": [
      "track_name : So. Good.\n",
      "album_name: So. Good.\n",
      "album_label: Johnny Stimson\n",
      "year: 2015\n",
      "Euclidean similarity : 0.0\n",
      "============================================================\n"
     ]
    },
    {
     "data": {
      "image/png": "[encoded data removed]",
      "text/plain": [
       "<Figure size 1440x144 with 2 Axes>"
      ]
     },
     "metadata": {
      "needs_background": "light"
     },
     "output_type": "display_data"
    },
    {
     "name": "stdout",
     "output_type": "stream",
     "text": [
      "track_name : I Would Like\n",
      "album_name: So Good\n",
      "album_label: Epic/Record Company TEN\n",
      "year: 2017\n",
      "Euclidean similarity : 0.0\n",
      "============================================================\n"
     ]
    },
    {
     "data": {
      "image/png": "[encoded data removed]",
      "text/plain": [
       "<Figure size 1440x144 with 2 Axes>"
      ]
     },
     "metadata": {
      "needs_background": "light"
     },
     "output_type": "display_data"
    },
    {
     "name": "stdout",
     "output_type": "stream",
     "text": [
      "track_name : Lush Life\n",
      "album_name: So Good\n",
      "album_label: Epic/Record Company TEN\n",
      "year: 2017\n",
      "Euclidean similarity : 0.0\n",
      "============================================================\n"
     ]
    },
    {
     "data": {
      "image/png": "[encoded data removed]",
      "text/plain": [
       "<Figure size 1440x144 with 2 Axes>"
      ]
     },
     "metadata": {
      "needs_background": "light"
     },
     "output_type": "display_data"
    },
    {
     "name": "stdout",
     "output_type": "stream",
     "text": [
      "track_name : Ain't My Fault\n",
      "album_name: So Good\n",
      "album_label: Universal Music AB\n",
      "year: 2017\n",
      "Euclidean similarity : 0.0\n",
      "============================================================\n"
     ]
    }
   ],
   "source": [
    "def bag_of_words_model(doc_id, num_results):\n",
    "    pairwise_dist = pairwise_distances(title_features,title_features[doc_id])\n",
    "    indices = np.argsort(pairwise_dist.flatten())[0:num_results]\n",
    "    pdists  = np.sort(pairwise_dist.flatten())[0:num_results]\n",
    "    df_indices = list(data.index[indices])\n",
    "    \n",
    "    for i in range(0,len(indices)):\n",
    "        get_result(indices[i],data['track_name'].loc[df_indices[0]], data['album_name'].loc[df_indices[i]], 'bag_of_words')\n",
    "        print('track_name :',data['track_name'].loc[df_indices[i]])\n",
    "        print ('album_name:', data['album_name'].loc[df_indices[i]])\n",
    "        print ('album_label:', data['album_label'].loc[df_indices[i]])\n",
    "        print ('year:', data['album_release_year'].loc[df_indices[i]])\n",
    "        print ('Euclidean similarity :', pdists[i])\n",
    "        print('='*60)\n",
    "\n",
    "bag_of_words_model(12500,5) "
   ]
  }
 ],
 "metadata": {
  "kernelspec": {
   "display_name": "Python 3",
   "language": "python",
   "name": "python3"
  },
  "language_info": {
   "codemirror_mode": {
    "name": "ipython",
    "version": 3
   },
   "file_extension": ".py",
   "mimetype": "text/x-python",
   "name": "python",
   "nbconvert_exporter": "python",
   "pygments_lexer": "ipython3",
   "version": "3.7.3"
  }
 },
 "nbformat": 4,
 "nbformat_minor": 2
}
